{
 "cells": [
  {
   "cell_type": "code",
   "execution_count": 1,
   "id": "b56e720f",
   "metadata": {},
   "outputs": [
    {
     "name": "stderr",
     "output_type": "stream",
     "text": [
      "C:\\Users\\samsung\\anaconda3\\Lib\\site-packages\\pandas\\core\\arrays\\masked.py:60: UserWarning: Pandas requires version '1.3.6' or newer of 'bottleneck' (version '1.3.5' currently installed).\n",
      "  from pandas.core import (\n"
     ]
    }
   ],
   "source": [
    "import pandas as pd\n",
    "import numpy as np\n",
    "import random\n",
    "import os\n",
    "from sklearn.pipeline import Pipeline\n",
    "from sklearn.feature_selection import SelectKBest, f_regression\n",
    "from sklearn.preprocessing import PolynomialFeatures, LabelEncoder\n",
    "from sklearn.ensemble import StackingRegressor, VotingRegressor\n",
    "from sklearn.linear_model import LinearRegression, Ridge\n",
    "from sklearn.ensemble import RandomForestRegressor\n",
    "from sklearn.metrics import mean_squared_error\n",
    "from sklearn.model_selection import train_test_split, cross_val_score\n",
    "import warnings\n",
    "\n",
    "warnings.filterwarnings('ignore')"
   ]
  },
  {
   "cell_type": "code",
   "execution_count": 2,
   "id": "3f8294bf",
   "metadata": {},
   "outputs": [],
   "source": [
    "# Seed 고정\n",
    "def seed_everything(seed):\n",
    "    random.seed(seed)\n",
    "    os.environ['PYTHONHASHSEED'] = str(seed)\n",
    "    np.random.seed(seed)\n",
    "\n",
    "seed_everything(42)"
   ]
  },
  {
   "cell_type": "code",
   "execution_count": 3,
   "id": "4171dd2d",
   "metadata": {},
   "outputs": [],
   "source": [
    "# 데이터 불러오기\n",
    "train = pd.read_csv('cal.train.csv')\n",
    "test = pd.read_csv('cal.test.csv')\n",
    "sample_submission = pd.read_csv('cal.sample_submission.csv', index_col=0)"
   ]
  },
  {
   "cell_type": "code",
   "execution_count": 4,
   "id": "c4914bb6",
   "metadata": {},
   "outputs": [],
   "source": [
    "# 데이터 전처리\n",
    "ordinal_features = ['Weight_Status', 'Gender']\n",
    "for feature in ordinal_features:\n",
    "    le = LabelEncoder()\n",
    "    le.fit(train[feature])\n",
    "    train[feature] = le.transform(train[feature])\n",
    "    for label in np.unique(test[feature]):\n",
    "        if label not in le.classes_:\n",
    "            le.classes_ = np.append(le.classes_, label)\n",
    "    test[feature] = le.transform(test[feature])"
   ]
  },
  {
   "cell_type": "code",
   "execution_count": 5,
   "id": "af45dc62",
   "metadata": {},
   "outputs": [],
   "source": [
    "# Feature Selection 및 PolynomialFeatures 적용\n",
    "train_x = train.drop(['ID', 'Calories_Burned', 'Weight_Status', 'Height(Remainder_Inches)', 'Height(Feet)'], axis=1)\n",
    "train_y = train['Calories_Burned']\n",
    "test_x = test.drop(['ID', 'Weight_Status', 'Height(Remainder_Inches)', 'Height(Feet)'], axis=1)\n",
    "\n",
    "poly = PolynomialFeatures(degree=3)  # 모든 고차항 생성\n",
    "train_poly = poly.fit_transform(train_x)\n",
    "test_poly = poly.transform(test_x)"
   ]
  },
  {
   "cell_type": "code",
   "execution_count": 6,
   "id": "384d9653",
   "metadata": {},
   "outputs": [],
   "source": [
    "# Feature Selection\n",
    "selector = SelectKBest(score_func=f_regression, k=40)\n",
    "train_poly = selector.fit_transform(train_poly, train_y)\n",
    "test_poly = selector.transform(test_poly)"
   ]
  },
  {
   "cell_type": "code",
   "execution_count": 7,
   "id": "799a0b21",
   "metadata": {},
   "outputs": [],
   "source": [
    "# 스태킹 모델 구성\n",
    "base_models = [\n",
    "    ('linear', LinearRegression()),\n",
    "    ('ridge', Ridge()),\n",
    "    ('rf', RandomForestRegressor(n_estimators=50, random_state=42))  # RandomForest 추가\n",
    "]\n",
    "\n",
    "stacking = StackingRegressor(\n",
    "    estimators=base_models,\n",
    "    final_estimator=Ridge(alpha=1.0)  # 최종 추정기로 Ridge 사용\n",
    ")"
   ]
  },
  {
   "cell_type": "code",
   "execution_count": 8,
   "id": "15550c6d",
   "metadata": {},
   "outputs": [],
   "source": [
    "# Voting 기법을 사용하는 앙상블 구성\n",
    "voting = VotingRegressor(estimators=base_models)"
   ]
  },
  {
   "cell_type": "code",
   "execution_count": 9,
   "id": "8ca0219e",
   "metadata": {},
   "outputs": [
    {
     "name": "stdout",
     "output_type": "stream",
     "text": [
      "Stacking Regressor Cross-validation RMSE: 0.2904624297587722\n",
      "Voting Regressor Cross-validation RMSE: 0.9399324847927749\n"
     ]
    }
   ],
   "source": [
    "# 교차 검증 (Stacking Regressor)\n",
    "cv_scores_stacking = np.sqrt(-cross_val_score(stacking, train_poly, train_y, cv=5, scoring='neg_mean_squared_error'))\n",
    "print(f\"Stacking Regressor Cross-validation RMSE: {cv_scores_stacking.mean()}\")\n",
    "\n",
    "# 교차 검증 (Voting Regressor)\n",
    "cv_scores_voting = np.sqrt(-cross_val_score(voting, train_poly, train_y, cv=5, scoring='neg_mean_squared_error'))\n",
    "print(f\"Voting Regressor Cross-validation RMSE: {cv_scores_voting.mean()}\")"
   ]
  },
  {
   "cell_type": "code",
   "execution_count": 10,
   "id": "9e6eade5",
   "metadata": {},
   "outputs": [],
   "source": [
    "# 학습 및 검증 데이터 분할\n",
    "X_train, X_val, y_train, y_val = train_test_split(train_poly, train_y, test_size=0.1, random_state=42, shuffle=True)"
   ]
  },
  {
   "cell_type": "code",
   "execution_count": 11,
   "id": "0213b79a",
   "metadata": {},
   "outputs": [
    {
     "name": "stdout",
     "output_type": "stream",
     "text": [
      "Stacking Regressor Validation RMSE: 0.289088034192128\n",
      "Voting Regressor Validation RMSE: 0.8995721450451558\n"
     ]
    }
   ],
   "source": [
    "# Stacking Regressor 학습 및 검증 성능 평가\n",
    "stacking.fit(X_train, y_train)\n",
    "y_pred_stacking = stacking.predict(X_val)\n",
    "rmse_stacking = mean_squared_error(y_val, y_pred_stacking, squared=False)\n",
    "print(f\"Stacking Regressor Validation RMSE: {rmse_stacking}\")\n",
    "\n",
    "# Voting Regressor 학습 및 검증 성능 평가\n",
    "voting.fit(X_train, y_train)\n",
    "y_pred_voting = voting.predict(X_val)\n",
    "rmse_voting = mean_squared_error(y_val, y_pred_voting, squared=False)\n",
    "print(f\"Voting Regressor Validation RMSE: {rmse_voting}\")"
   ]
  },
  {
   "cell_type": "code",
   "execution_count": 12,
   "id": "06d79011",
   "metadata": {},
   "outputs": [],
   "source": [
    "# 테스트 데이터 예측 및 제출 파일 생성 (Voting 모델 사용)\n",
    "test_preds_voting = voting.predict(test_poly)\n",
    "sample_submission['Calories_Burned'] = np.round(test_preds_voting)\n",
    "sample_submission.to_csv('submission_voting.csv', index=True)"
   ]
  },
  {
   "cell_type": "code",
   "execution_count": null,
   "id": "7f876f2c",
   "metadata": {},
   "outputs": [],
   "source": []
  }
 ],
 "metadata": {
  "kernelspec": {
   "display_name": "Python 3 (ipykernel)",
   "language": "python",
   "name": "python3"
  },
  "language_info": {
   "codemirror_mode": {
    "name": "ipython",
    "version": 3
   },
   "file_extension": ".py",
   "mimetype": "text/x-python",
   "name": "python",
   "nbconvert_exporter": "python",
   "pygments_lexer": "ipython3",
   "version": "3.11.4"
  }
 },
 "nbformat": 4,
 "nbformat_minor": 5
}
