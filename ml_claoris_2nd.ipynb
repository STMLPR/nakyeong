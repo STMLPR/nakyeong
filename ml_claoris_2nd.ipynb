{
 "cells": [
  {
   "cell_type": "code",
   "execution_count": 13,
   "id": "fbe2d3f6",
   "metadata": {},
   "outputs": [],
   "source": [
    "import pandas as pd\n",
    "import numpy as np\n",
    "import random\n",
    "import os\n",
    "import gc\n",
    "from sklearn.pipeline import Pipeline\n",
    "from sklearn.feature_selection import SelectKBest, f_regression\n",
    "from sklearn.model_selection import cross_val_score\n",
    "from sklearn.linear_model import LinearRegression\n",
    "from sklearn.preprocessing import LabelEncoder\n",
    "from sklearn.metrics import mean_squared_error\n",
    "from sklearn.model_selection import train_test_split\n",
    "from sklearn.preprocessing import PolynomialFeatures\n",
    "import os\n",
    "import pandas as pd\n",
    "from sklearn.preprocessing import LabelEncoder\n",
    "import matplotlib.pyplot as plt\n",
    "import seaborn as sns\n",
    "\n",
    "import warnings\n",
    "warnings.filterwarnings('ignore')"
   ]
  },
  {
   "cell_type": "code",
   "execution_count": 14,
   "id": "bcf34e98",
   "metadata": {},
   "outputs": [],
   "source": [
    "def seed_everything(seed):\n",
    "    random.seed(seed)\n",
    "    os.environ['PYTHONHASHSEED'] = str(seed)\n",
    "    np.random.seed(seed)\n",
    "seed_everything(42) # Seed 고정"
   ]
  },
  {
   "cell_type": "code",
   "execution_count": 15,
   "id": "8dd75052",
   "metadata": {},
   "outputs": [],
   "source": [
    "# 데이터 불러오기\n",
    "train = pd.read_csv('cal.train.csv')\n",
    "test = pd.read_csv('cal.test.csv')\n",
    "sample_submission = pd.read_csv('cal.sample_submission.csv', index_col = 0)"
   ]
  },
  {
   "cell_type": "code",
   "execution_count": 16,
   "id": "eadf3fb8",
   "metadata": {},
   "outputs": [],
   "source": [
    "ordinal_features = ['Weight_Status', 'Gender']\n",
    "\n",
    "for feature in ordinal_features:\n",
    "    le = LabelEncoder()\n",
    "    le = le.fit(train[feature])\n",
    "    train[feature] = le.transform(train[feature])\n",
    "\n",
    "    for label in np.unique(test[feature]):\n",
    "        if label not in le.classes_:\n",
    "            le.classes_ = np.append(le.classes_, label)\n",
    "    test[feature] = le.transform(test[feature])"
   ]
  },
  {
   "cell_type": "code",
   "execution_count": 17,
   "id": "bfb65af5",
   "metadata": {},
   "outputs": [],
   "source": [
    "train_x = train.drop(['ID', 'Calories_Burned','Weight_Status','Height(Remainder_Inches)','Height(Feet)'], axis = 1)\n",
    "train_y = train['Calories_Burned']\n",
    "test_x = test.drop(['ID','Weight_Status','Height(Remainder_Inches)','Height(Feet)'], axis = 1)"
   ]
  },
  {
   "cell_type": "code",
   "execution_count": 18,
   "id": "3d227d24",
   "metadata": {},
   "outputs": [],
   "source": [
    "def custom_scoring_function(estimator, X, y):\n",
    "    y_pred = estimator.predict(X)\n",
    "    return -mean_squared_error(y, np.rint(y_pred))"
   ]
  },
  {
   "cell_type": "code",
   "execution_count": 19,
   "id": "08973efa",
   "metadata": {},
   "outputs": [],
   "source": [
    "pipeline = Pipeline([('poly', PolynomialFeatures(degree=3)),\n",
    "                     ('reduce_dim', SelectKBest(f_regression,k=40)),\n",
    "                     ('regressor', LinearRegression())])"
   ]
  },
  {
   "cell_type": "code",
   "execution_count": 20,
   "id": "040e4e50",
   "metadata": {},
   "outputs": [
    {
     "name": "stdout",
     "output_type": "stream",
     "text": [
      "Cross-validation RMSE: 0.13479018967602313\n"
     ]
    }
   ],
   "source": [
    "# 교차 검증 수행\n",
    "scores = np.sqrt(-cross_val_score(pipeline, train_x,train_y, cv=5, scoring=custom_scoring_function))\n",
    "scores\n",
    "# 교차 검증 평균 점수 출력\n",
    "print('Cross-validation RMSE:', scores.mean()) "
   ]
  },
  {
   "cell_type": "code",
   "execution_count": 21,
   "id": "e4ba6cd8",
   "metadata": {},
   "outputs": [
    {
     "data": {
      "text/plain": [
       "array([173., 189.,  53., ..., 130.,  32., 191.])"
      ]
     },
     "execution_count": 21,
     "metadata": {},
     "output_type": "execute_result"
    }
   ],
   "source": [
    "pipeline.fit(train_x, train_y)\n",
    "test_y_pred = pipeline.predict(test_x)\n",
    "test_y_pred =np.rint(test_y_pred )\n",
    "test_y_pred "
   ]
  },
  {
   "cell_type": "code",
   "execution_count": 22,
   "id": "e189d30a",
   "metadata": {},
   "outputs": [
    {
     "data": {
      "text/html": [
       "<div>\n",
       "<style scoped>\n",
       "    .dataframe tbody tr th:only-of-type {\n",
       "        vertical-align: middle;\n",
       "    }\n",
       "\n",
       "    .dataframe tbody tr th {\n",
       "        vertical-align: top;\n",
       "    }\n",
       "\n",
       "    .dataframe thead th {\n",
       "        text-align: right;\n",
       "    }\n",
       "</style>\n",
       "<table border=\"1\" class=\"dataframe\">\n",
       "  <thead>\n",
       "    <tr style=\"text-align: right;\">\n",
       "      <th></th>\n",
       "      <th>Calories_Burned</th>\n",
       "    </tr>\n",
       "    <tr>\n",
       "      <th>ID</th>\n",
       "      <th></th>\n",
       "    </tr>\n",
       "  </thead>\n",
       "  <tbody>\n",
       "    <tr>\n",
       "      <th>TEST_0000</th>\n",
       "      <td>173.0</td>\n",
       "    </tr>\n",
       "    <tr>\n",
       "      <th>TEST_0001</th>\n",
       "      <td>189.0</td>\n",
       "    </tr>\n",
       "    <tr>\n",
       "      <th>TEST_0002</th>\n",
       "      <td>53.0</td>\n",
       "    </tr>\n",
       "    <tr>\n",
       "      <th>TEST_0003</th>\n",
       "      <td>161.0</td>\n",
       "    </tr>\n",
       "    <tr>\n",
       "      <th>TEST_0004</th>\n",
       "      <td>226.0</td>\n",
       "    </tr>\n",
       "    <tr>\n",
       "      <th>...</th>\n",
       "      <td>...</td>\n",
       "    </tr>\n",
       "    <tr>\n",
       "      <th>TEST_7495</th>\n",
       "      <td>197.0</td>\n",
       "    </tr>\n",
       "    <tr>\n",
       "      <th>TEST_7496</th>\n",
       "      <td>10.0</td>\n",
       "    </tr>\n",
       "    <tr>\n",
       "      <th>TEST_7497</th>\n",
       "      <td>130.0</td>\n",
       "    </tr>\n",
       "    <tr>\n",
       "      <th>TEST_7498</th>\n",
       "      <td>32.0</td>\n",
       "    </tr>\n",
       "    <tr>\n",
       "      <th>TEST_7499</th>\n",
       "      <td>191.0</td>\n",
       "    </tr>\n",
       "  </tbody>\n",
       "</table>\n",
       "<p>7500 rows × 1 columns</p>\n",
       "</div>"
      ],
      "text/plain": [
       "           Calories_Burned\n",
       "ID                        \n",
       "TEST_0000            173.0\n",
       "TEST_0001            189.0\n",
       "TEST_0002             53.0\n",
       "TEST_0003            161.0\n",
       "TEST_0004            226.0\n",
       "...                    ...\n",
       "TEST_7495            197.0\n",
       "TEST_7496             10.0\n",
       "TEST_7497            130.0\n",
       "TEST_7498             32.0\n",
       "TEST_7499            191.0\n",
       "\n",
       "[7500 rows x 1 columns]"
      ]
     },
     "execution_count": 22,
     "metadata": {},
     "output_type": "execute_result"
    }
   ],
   "source": [
    "submission = pd.read_csv('submission_2nd.csv',index_col = 0)\n",
    "submission['Calories_Burned'] = test_y_pred\n",
    "submission"
   ]
  },
  {
   "cell_type": "code",
   "execution_count": null,
   "id": "ea8fff61",
   "metadata": {},
   "outputs": [],
   "source": []
  }
 ],
 "metadata": {
  "kernelspec": {
   "display_name": "Python 3 (ipykernel)",
   "language": "python",
   "name": "python3"
  },
  "language_info": {
   "codemirror_mode": {
    "name": "ipython",
    "version": 3
   },
   "file_extension": ".py",
   "mimetype": "text/x-python",
   "name": "python",
   "nbconvert_exporter": "python",
   "pygments_lexer": "ipython3",
   "version": "3.11.4"
  }
 },
 "nbformat": 4,
 "nbformat_minor": 5
}
